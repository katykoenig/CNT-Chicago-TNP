{
 "cells": [
  {
   "cell_type": "markdown",
   "metadata": {},
   "source": [
    "# Chicago TNP Data Exploration"
   ]
  },
  {
   "cell_type": "markdown",
   "metadata": {},
   "source": [
    "Notes:\n",
    "\n",
    "- Datasets to updated quarterly\n",
    "- Starting and ending time rounded to nearest 15 minutes\n",
    "- Trip fare rounded to nearest $2.50\n",
    "- Tip rounded to nearest \\$1.00"
   ]
  },
  {
   "cell_type": "code",
   "execution_count": 69,
   "metadata": {},
   "outputs": [],
   "source": [
    "import pandas as pd\n",
    "import requests\n",
    "import geopandas as gpd\n",
    "from shapely.geometry import shape, Point\n",
    "import folium"
   ]
  },
  {
   "cell_type": "markdown",
   "metadata": {},
   "source": [
    "Quick Summary of Datasets:"
   ]
  },
  {
   "cell_type": "code",
   "execution_count": 7,
   "metadata": {},
   "outputs": [
    {
     "data": {
      "text/html": [
       "<div>\n",
       "<style scoped>\n",
       "    .dataframe tbody tr th:only-of-type {\n",
       "        vertical-align: middle;\n",
       "    }\n",
       "\n",
       "    .dataframe tbody tr th {\n",
       "        vertical-align: top;\n",
       "    }\n",
       "\n",
       "    .dataframe thead th {\n",
       "        text-align: right;\n",
       "    }\n",
       "</style>\n",
       "<table border=\"1\" class=\"dataframe\">\n",
       "  <thead>\n",
       "    <tr style=\"text-align: right;\">\n",
       "      <th></th>\n",
       "      <th>dataset_name</th>\n",
       "      <th>total_obs</th>\n",
       "      <th>date_reported_start</th>\n",
       "      <th>date_reported_end</th>\n",
       "      <th>num_cols</th>\n",
       "    </tr>\n",
       "  </thead>\n",
       "  <tbody>\n",
       "    <tr>\n",
       "      <th>0</th>\n",
       "      <td>Trips</td>\n",
       "      <td>17432011</td>\n",
       "      <td>11/01/2018</td>\n",
       "      <td>12/31/2018</td>\n",
       "      <td>21</td>\n",
       "    </tr>\n",
       "    <tr>\n",
       "      <th>1</th>\n",
       "      <td>Drivers</td>\n",
       "      <td>4812612</td>\n",
       "      <td>2015-02</td>\n",
       "      <td>2018-12</td>\n",
       "      <td>7</td>\n",
       "    </tr>\n",
       "    <tr>\n",
       "      <th>2</th>\n",
       "      <td>Vehicles</td>\n",
       "      <td>4812049</td>\n",
       "      <td>2015-02</td>\n",
       "      <td>2018-12</td>\n",
       "      <td>9</td>\n",
       "    </tr>\n",
       "  </tbody>\n",
       "</table>\n",
       "</div>"
      ],
      "text/plain": [
       "  dataset_name  total_obs date_reported_start date_reported_end  num_cols\n",
       "0        Trips   17432011          11/01/2018        12/31/2018        21\n",
       "1      Drivers    4812612             2015-02           2018-12         7\n",
       "2     Vehicles    4812049             2015-02           2018-12         9"
      ]
     },
     "execution_count": 7,
     "metadata": {},
     "output_type": "execute_result"
    }
   ],
   "source": [
    "d = {'dataset_name': ['Trips', 'Drivers', 'Vehicles'], 'total_obs': [17432011, 4812612, 4812049], 'date_reported_start': ['11/01/2018', '2015-02','2015-02'], 'date_reported_end': ['12/31/2018', '2018-12', '2018-12'], 'num_cols': [21, 7, 9]}\n",
    "summary_df = pd.DataFrame(d)\n",
    "summary_df"
   ]
  },
  {
   "cell_type": "markdown",
   "metadata": {},
   "source": [
    "## Trips Dataset"
   ]
  },
  {
   "cell_type": "code",
   "execution_count": null,
   "metadata": {},
   "outputs": [],
   "source": [
    "os = 0\n",
    "params = {'$limit': 1000, '$offset': os}\n",
    "response = requests.get('https://data.cityofchicago.org/resource/m6dm-c72p.json', params).json()\n",
    "total_response = response\n",
    "os = 1000\n",
    "while len(total_response) <= 10000:\n",
    "    params = {'$limit': 1000, '$offset': os}\n",
    "    response = requests.get('https://data.cityofchicago.org/resource/m6dm-c72p.json', params).json()\n",
    "    os += 1000\n",
    "    total_response += response"
   ]
  },
  {
   "cell_type": "code",
   "execution_count": null,
   "metadata": {},
   "outputs": [],
   "source": [
    "trips_df = pd.DataFrame.from_dict(total_response, dtype=str)"
   ]
  },
  {
   "cell_type": "markdown",
   "metadata": {},
   "source": [
    "API to get first 1,000 (max to download w/o loop) from trips dataset & make pandas dataframe:"
   ]
  },
  {
   "cell_type": "code",
   "execution_count": 77,
   "metadata": {},
   "outputs": [],
   "source": [
    "trips_response = requests.get('https://data.cityofchicago.org/resource/m6dm-c72p.json').json()\n",
    "trips_df = pd.DataFrame.from_dict(trips_response, dtype=str)"
   ]
  },
  {
   "cell_type": "code",
   "execution_count": 78,
   "metadata": {},
   "outputs": [
    {
     "data": {
      "text/plain": [
       "Index(['additional_charges', 'dropoff_census_tract',\n",
       "       'dropoff_centroid_latitude', 'dropoff_centroid_location',\n",
       "       'dropoff_centroid_longitude', 'dropoff_community_area', 'fare',\n",
       "       'pickup_census_tract', 'pickup_centroid_latitude',\n",
       "       'pickup_centroid_location', 'pickup_centroid_longitude',\n",
       "       'pickup_community_area', 'shared_trip_authorized', 'tip',\n",
       "       'trip_end_timestamp', 'trip_id', 'trip_miles', 'trip_seconds',\n",
       "       'trip_start_timestamp', 'trip_total', 'trips_pooled'],\n",
       "      dtype='object')"
      ]
     },
     "execution_count": 78,
     "metadata": {},
     "output_type": "execute_result"
    }
   ],
   "source": [
    "trips_df.columns"
   ]
  },
  {
   "cell_type": "code",
   "execution_count": 79,
   "metadata": {},
   "outputs": [
    {
     "data": {
      "text/plain": [
       "additional_charges            object\n",
       "dropoff_census_tract          object\n",
       "dropoff_centroid_latitude     object\n",
       "dropoff_centroid_location     object\n",
       "dropoff_centroid_longitude    object\n",
       "dropoff_community_area        object\n",
       "fare                          object\n",
       "pickup_census_tract           object\n",
       "pickup_centroid_latitude      object\n",
       "pickup_centroid_location      object\n",
       "pickup_centroid_longitude     object\n",
       "pickup_community_area         object\n",
       "shared_trip_authorized        object\n",
       "tip                           object\n",
       "trip_end_timestamp            object\n",
       "trip_id                       object\n",
       "trip_miles                    object\n",
       "trip_seconds                  object\n",
       "trip_start_timestamp          object\n",
       "trip_total                    object\n",
       "trips_pooled                  object\n",
       "dtype: object"
      ]
     },
     "execution_count": 79,
     "metadata": {},
     "output_type": "execute_result"
    }
   ],
   "source": [
    "trips_df.dtypes"
   ]
  },
  {
   "cell_type": "markdown",
   "metadata": {},
   "source": [
    "See first five observations in dataset"
   ]
  },
  {
   "cell_type": "code",
   "execution_count": 80,
   "metadata": {},
   "outputs": [
    {
     "data": {
      "text/html": [
       "<div>\n",
       "<style scoped>\n",
       "    .dataframe tbody tr th:only-of-type {\n",
       "        vertical-align: middle;\n",
       "    }\n",
       "\n",
       "    .dataframe tbody tr th {\n",
       "        vertical-align: top;\n",
       "    }\n",
       "\n",
       "    .dataframe thead th {\n",
       "        text-align: right;\n",
       "    }\n",
       "</style>\n",
       "<table border=\"1\" class=\"dataframe\">\n",
       "  <thead>\n",
       "    <tr style=\"text-align: right;\">\n",
       "      <th></th>\n",
       "      <th>additional_charges</th>\n",
       "      <th>dropoff_census_tract</th>\n",
       "      <th>dropoff_centroid_latitude</th>\n",
       "      <th>dropoff_centroid_location</th>\n",
       "      <th>dropoff_centroid_longitude</th>\n",
       "      <th>dropoff_community_area</th>\n",
       "      <th>fare</th>\n",
       "      <th>pickup_census_tract</th>\n",
       "      <th>pickup_centroid_latitude</th>\n",
       "      <th>pickup_centroid_location</th>\n",
       "      <th>...</th>\n",
       "      <th>pickup_community_area</th>\n",
       "      <th>shared_trip_authorized</th>\n",
       "      <th>tip</th>\n",
       "      <th>trip_end_timestamp</th>\n",
       "      <th>trip_id</th>\n",
       "      <th>trip_miles</th>\n",
       "      <th>trip_seconds</th>\n",
       "      <th>trip_start_timestamp</th>\n",
       "      <th>trip_total</th>\n",
       "      <th>trips_pooled</th>\n",
       "    </tr>\n",
       "  </thead>\n",
       "  <tbody>\n",
       "    <tr>\n",
       "      <th>0</th>\n",
       "      <td>0</td>\n",
       "      <td>NaN</td>\n",
       "      <td>41.9465114202</td>\n",
       "      <td>{'type': 'Point', 'coordinates': [-87.80602000...</td>\n",
       "      <td>-87.8060200025</td>\n",
       "      <td>17</td>\n",
       "      <td>17.5</td>\n",
       "      <td>NaN</td>\n",
       "      <td>41.9012069941</td>\n",
       "      <td>{'type': 'Point', 'coordinates': [-87.67635598...</td>\n",
       "      <td>...</td>\n",
       "      <td>24</td>\n",
       "      <td>True</td>\n",
       "      <td>3</td>\n",
       "      <td>2019-01-01T00:00:00.000</td>\n",
       "      <td>2d948e2b5abc7056145ecc026479462b00f7bcf0</td>\n",
       "      <td>10.87562822896</td>\n",
       "      <td>1613</td>\n",
       "      <td>2018-12-31T23:30:00.000</td>\n",
       "      <td>20.5</td>\n",
       "      <td>1</td>\n",
       "    </tr>\n",
       "    <tr>\n",
       "      <th>1</th>\n",
       "      <td>2.5</td>\n",
       "      <td>17031839000</td>\n",
       "      <td>41.8710158803</td>\n",
       "      <td>{'type': 'Point', 'coordinates': [-87.63140652...</td>\n",
       "      <td>-87.6314065252</td>\n",
       "      <td>32</td>\n",
       "      <td>5</td>\n",
       "      <td>17031833100</td>\n",
       "      <td>41.8790669938</td>\n",
       "      <td>{'type': 'Point', 'coordinates': [-87.65700502...</td>\n",
       "      <td>...</td>\n",
       "      <td>28</td>\n",
       "      <td>False</td>\n",
       "      <td>0</td>\n",
       "      <td>2019-01-01T00:00:00.000</td>\n",
       "      <td>fc4b6e92960f1f5bb1f3a2697e49b8913576e207</td>\n",
       "      <td>1.62441530144</td>\n",
       "      <td>562</td>\n",
       "      <td>2018-12-31T23:45:00.000</td>\n",
       "      <td>7.5</td>\n",
       "      <td>1</td>\n",
       "    </tr>\n",
       "    <tr>\n",
       "      <th>2</th>\n",
       "      <td>2.5</td>\n",
       "      <td>17031081403</td>\n",
       "      <td>41.8909220259</td>\n",
       "      <td>{'type': 'Point', 'coordinates': [-87.61886835...</td>\n",
       "      <td>-87.6188683546</td>\n",
       "      <td>8</td>\n",
       "      <td>7.5</td>\n",
       "      <td>17031080300</td>\n",
       "      <td>41.9074919303</td>\n",
       "      <td>{'type': 'Point', 'coordinates': [-87.63576009...</td>\n",
       "      <td>...</td>\n",
       "      <td>8</td>\n",
       "      <td>False</td>\n",
       "      <td>0</td>\n",
       "      <td>2019-01-01T00:00:00.000</td>\n",
       "      <td>c0f7e586f004df3987059c883705cb8b62e5cc6d</td>\n",
       "      <td>2.905180388</td>\n",
       "      <td>801</td>\n",
       "      <td>2018-12-31T23:45:00.000</td>\n",
       "      <td>10</td>\n",
       "      <td>1</td>\n",
       "    </tr>\n",
       "    <tr>\n",
       "      <th>3</th>\n",
       "      <td>7.5</td>\n",
       "      <td>NaN</td>\n",
       "      <td>41.968069</td>\n",
       "      <td>{'type': 'Point', 'coordinates': [-87.72155906...</td>\n",
       "      <td>-87.7215590627</td>\n",
       "      <td>14</td>\n",
       "      <td>22.5</td>\n",
       "      <td>NaN</td>\n",
       "      <td>41.9802643146</td>\n",
       "      <td>{'type': 'Point', 'coordinates': [-87.91362459...</td>\n",
       "      <td>...</td>\n",
       "      <td>76</td>\n",
       "      <td>False</td>\n",
       "      <td>0</td>\n",
       "      <td>2019-01-01T00:00:00.000</td>\n",
       "      <td>2a8d8287d0c7d5f86da6cc3189278d371c5ee2ef</td>\n",
       "      <td>11.0738640672</td>\n",
       "      <td>1223</td>\n",
       "      <td>2018-12-31T23:30:00.000</td>\n",
       "      <td>30</td>\n",
       "      <td>1</td>\n",
       "    </tr>\n",
       "    <tr>\n",
       "      <th>4</th>\n",
       "      <td>2.5</td>\n",
       "      <td>NaN</td>\n",
       "      <td>41.9227606205</td>\n",
       "      <td>{'type': 'Point', 'coordinates': [-87.69915534...</td>\n",
       "      <td>-87.6991553432</td>\n",
       "      <td>22</td>\n",
       "      <td>12.5</td>\n",
       "      <td>NaN</td>\n",
       "      <td>41.899602111</td>\n",
       "      <td>{'type': 'Point', 'coordinates': [-87.63330803...</td>\n",
       "      <td>...</td>\n",
       "      <td>8</td>\n",
       "      <td>False</td>\n",
       "      <td>0</td>\n",
       "      <td>2019-01-01T00:00:00.000</td>\n",
       "      <td>70a3da64b46c901b41078cc039bf4c36e6916baa</td>\n",
       "      <td>5.76561789088</td>\n",
       "      <td>1247</td>\n",
       "      <td>2018-12-31T23:30:00.000</td>\n",
       "      <td>15</td>\n",
       "      <td>1</td>\n",
       "    </tr>\n",
       "  </tbody>\n",
       "</table>\n",
       "<p>5 rows × 21 columns</p>\n",
       "</div>"
      ],
      "text/plain": [
       "  additional_charges dropoff_census_tract dropoff_centroid_latitude  \\\n",
       "0                  0                  NaN             41.9465114202   \n",
       "1                2.5          17031839000             41.8710158803   \n",
       "2                2.5          17031081403             41.8909220259   \n",
       "3                7.5                  NaN                 41.968069   \n",
       "4                2.5                  NaN             41.9227606205   \n",
       "\n",
       "                           dropoff_centroid_location  \\\n",
       "0  {'type': 'Point', 'coordinates': [-87.80602000...   \n",
       "1  {'type': 'Point', 'coordinates': [-87.63140652...   \n",
       "2  {'type': 'Point', 'coordinates': [-87.61886835...   \n",
       "3  {'type': 'Point', 'coordinates': [-87.72155906...   \n",
       "4  {'type': 'Point', 'coordinates': [-87.69915534...   \n",
       "\n",
       "  dropoff_centroid_longitude dropoff_community_area  fare pickup_census_tract  \\\n",
       "0             -87.8060200025                     17  17.5                 NaN   \n",
       "1             -87.6314065252                     32     5         17031833100   \n",
       "2             -87.6188683546                      8   7.5         17031080300   \n",
       "3             -87.7215590627                     14  22.5                 NaN   \n",
       "4             -87.6991553432                     22  12.5                 NaN   \n",
       "\n",
       "  pickup_centroid_latitude                           pickup_centroid_location  \\\n",
       "0            41.9012069941  {'type': 'Point', 'coordinates': [-87.67635598...   \n",
       "1            41.8790669938  {'type': 'Point', 'coordinates': [-87.65700502...   \n",
       "2            41.9074919303  {'type': 'Point', 'coordinates': [-87.63576009...   \n",
       "3            41.9802643146  {'type': 'Point', 'coordinates': [-87.91362459...   \n",
       "4             41.899602111  {'type': 'Point', 'coordinates': [-87.63330803...   \n",
       "\n",
       "   ... pickup_community_area shared_trip_authorized tip  \\\n",
       "0  ...                    24                   True   3   \n",
       "1  ...                    28                  False   0   \n",
       "2  ...                     8                  False   0   \n",
       "3  ...                    76                  False   0   \n",
       "4  ...                     8                  False   0   \n",
       "\n",
       "        trip_end_timestamp                                   trip_id  \\\n",
       "0  2019-01-01T00:00:00.000  2d948e2b5abc7056145ecc026479462b00f7bcf0   \n",
       "1  2019-01-01T00:00:00.000  fc4b6e92960f1f5bb1f3a2697e49b8913576e207   \n",
       "2  2019-01-01T00:00:00.000  c0f7e586f004df3987059c883705cb8b62e5cc6d   \n",
       "3  2019-01-01T00:00:00.000  2a8d8287d0c7d5f86da6cc3189278d371c5ee2ef   \n",
       "4  2019-01-01T00:00:00.000  70a3da64b46c901b41078cc039bf4c36e6916baa   \n",
       "\n",
       "       trip_miles trip_seconds     trip_start_timestamp trip_total  \\\n",
       "0  10.87562822896         1613  2018-12-31T23:30:00.000       20.5   \n",
       "1   1.62441530144          562  2018-12-31T23:45:00.000        7.5   \n",
       "2     2.905180388          801  2018-12-31T23:45:00.000         10   \n",
       "3   11.0738640672         1223  2018-12-31T23:30:00.000         30   \n",
       "4   5.76561789088         1247  2018-12-31T23:30:00.000         15   \n",
       "\n",
       "  trips_pooled  \n",
       "0            1  \n",
       "1            1  \n",
       "2            1  \n",
       "3            1  \n",
       "4            1  \n",
       "\n",
       "[5 rows x 21 columns]"
      ]
     },
     "execution_count": 80,
     "metadata": {},
     "output_type": "execute_result"
    }
   ],
   "source": [
    "trips_df.head(n=5)"
   ]
  },
  {
   "cell_type": "markdown",
   "metadata": {},
   "source": [
    "Number of NaN/Null Values by Column"
   ]
  },
  {
   "cell_type": "code",
   "execution_count": 81,
   "metadata": {},
   "outputs": [
    {
     "data": {
      "text/plain": [
       "additional_charges              0\n",
       "dropoff_census_tract          466\n",
       "dropoff_centroid_latitude      37\n",
       "dropoff_centroid_location      37\n",
       "dropoff_centroid_longitude     37\n",
       "dropoff_community_area         37\n",
       "fare                            0\n",
       "pickup_census_tract           465\n",
       "pickup_centroid_latitude       42\n",
       "pickup_centroid_location       42\n",
       "pickup_centroid_longitude      42\n",
       "pickup_community_area          42\n",
       "shared_trip_authorized          0\n",
       "tip                             0\n",
       "trip_end_timestamp              0\n",
       "trip_id                         0\n",
       "trip_miles                      0\n",
       "trip_seconds                    0\n",
       "trip_start_timestamp            0\n",
       "trip_total                      0\n",
       "trips_pooled                    0\n",
       "dtype: int64"
      ]
     },
     "execution_count": 81,
     "metadata": {},
     "output_type": "execute_result"
    }
   ],
   "source": [
    "trips_df.isnull().sum(axis=0)"
   ]
  },
  {
   "cell_type": "markdown",
   "metadata": {},
   "source": [
    "For longest value in each column:"
   ]
  },
  {
   "cell_type": "code",
   "execution_count": 82,
   "metadata": {},
   "outputs": [
    {
     "name": "stdout",
     "output_type": "stream",
     "text": [
      "additional_charges 5\n",
      "dropoff_census_tract 11\n",
      "dropoff_centroid_latitude 13\n",
      "dropoff_centroid_location 70\n",
      "dropoff_centroid_longitude 70\n",
      "dropoff_community_area 70\n",
      "fare 70\n",
      "pickup_census_tract 70\n",
      "pickup_centroid_latitude 70\n",
      "pickup_centroid_location 70\n",
      "pickup_centroid_longitude 70\n",
      "pickup_community_area 70\n",
      "shared_trip_authorized 70\n",
      "tip 70\n",
      "trip_end_timestamp 70\n",
      "trip_id 70\n",
      "trip_miles 70\n",
      "trip_seconds 70\n",
      "trip_start_timestamp 70\n",
      "trip_total 70\n",
      "trips_pooled 70\n"
     ]
    }
   ],
   "source": [
    "longest_val = 0\n",
    "for column in trips_df.columns:\n",
    "    for val in trips_df[column].unique():\n",
    "        if len(str(val)) > longest_val:\n",
    "            longest_val = len(str(val))\n",
    "    print(column, longest_val)"
   ]
  },
  {
   "cell_type": "markdown",
   "metadata": {},
   "source": [
    "Converts timestamps from strings to datetime objects"
   ]
  },
  {
   "cell_type": "code",
   "execution_count": 83,
   "metadata": {},
   "outputs": [],
   "source": [
    "trips_df['trip_start_timestamp'] = pd.to_datetime(trips_df['trip_start_timestamp'])\n",
    "trips_df['trip_end_timestamp'] = pd.to_datetime(trips_df['trip_end_timestamp'])"
   ]
  },
  {
   "cell_type": "code",
   "execution_count": 107,
   "metadata": {},
   "outputs": [
    {
     "data": {
      "text/plain": [
       "Timestamp('2018-12-31 22:30:00')"
      ]
     },
     "execution_count": 107,
     "metadata": {},
     "output_type": "execute_result"
    }
   ],
   "source": [
    "trips_df.trip_start_timestamp.min()"
   ]
  },
  {
   "cell_type": "code",
   "execution_count": 109,
   "metadata": {},
   "outputs": [
    {
     "data": {
      "text/plain": [
       "Timestamp('2018-12-31 23:45:00')"
      ]
     },
     "execution_count": 109,
     "metadata": {},
     "output_type": "execute_result"
    }
   ],
   "source": [
    "trips_df.trip_start_timestamp.max()"
   ]
  },
  {
   "cell_type": "code",
   "execution_count": 108,
   "metadata": {},
   "outputs": [
    {
     "data": {
      "text/plain": [
       "Timestamp('2018-12-31 23:45:00')"
      ]
     },
     "execution_count": 108,
     "metadata": {},
     "output_type": "execute_result"
    }
   ],
   "source": [
    "trips_df.trip_end_timestamp.min()"
   ]
  },
  {
   "cell_type": "code",
   "execution_count": 110,
   "metadata": {},
   "outputs": [
    {
     "data": {
      "text/plain": [
       "Timestamp('2019-01-01 00:00:00')"
      ]
     },
     "execution_count": 110,
     "metadata": {},
     "output_type": "execute_result"
    }
   ],
   "source": [
    "trips_df.trip_end_timestamp.max()"
   ]
  },
  {
   "cell_type": "markdown",
   "metadata": {},
   "source": [
    "Drop nulls to allow for mapping:"
   ]
  },
  {
   "cell_type": "code",
   "execution_count": 105,
   "metadata": {},
   "outputs": [],
   "source": [
    "trips_df = trips_df[trips_df['pickup_centroid_latitude'].notnull()]\n",
    "trips_df = trips_df[trips_df['dropoff_centroid_latitude'].notnull()]"
   ]
  },
  {
   "cell_type": "code",
   "execution_count": 106,
   "metadata": {},
   "outputs": [
    {
     "data": {
      "text/html": [
       "<div style=\"width:100%;\"><div style=\"position:relative;width:100%;height:0;padding-bottom:60%;\"><iframe src=\"data:text/html;charset=utf-8;base64,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\" style=\"position:absolute;width:100%;height:100%;left:0;top:0;border:none !important;\" allowfullscreen webkitallowfullscreen mozallowfullscreen></iframe></div></div>"
      ],
      "text/plain": [
       "<folium.folium.Map at 0x9fbaf60>"
      ]
     },
     "execution_count": 106,
     "metadata": {},
     "output_type": "execute_result"
    }
   ],
   "source": [
    "xy = trips_df[['pickup_centroid_latitude', 'pickup_centroid_longitude']]\n",
    "hmap = folium.Map(location=[41.87, -87.69], zoom_start=11)\n",
    "hm_rod = HeatMap(list(zip(xy['pickup_centroid_latitude'].values, xy['pickup_centroid_longitude'].values)), radius=13, blur=20)\n",
    "hmap.add_child(hm_rod)"
   ]
  },
  {
   "cell_type": "code",
   "execution_count": 104,
   "metadata": {},
   "outputs": [
    {
     "data": {
      "text/html": [
       "<div style=\"width:100%;\"><div style=\"position:relative;width:100%;height:0;padding-bottom:60%;\"><iframe src=\"data:text/html;charset=utf-8;base64,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\" style=\"position:absolute;width:100%;height:100%;left:0;top:0;border:none !important;\" allowfullscreen webkitallowfullscreen mozallowfullscreen></iframe></div></div>"
      ],
      "text/plain": [
       "<folium.folium.Map at 0x9fbd668>"
      ]
     },
     "execution_count": 104,
     "metadata": {},
     "output_type": "execute_result"
    }
   ],
   "source": [
    "xy = trips_df[['dropoff_centroid_latitude', 'dropoff_centroid_longitude']]\n",
    "hmap = folium.Map(location=[41.87, -87.69], zoom_start=11)\n",
    "hm_rod = HeatMap(list(zip(xy['dropoff_centroid_latitude'].values, xy['dropoff_centroid_longitude'].values)), radius=13, blur=20)\n",
    "hmap.add_child(hm_rod)"
   ]
  },
  {
   "cell_type": "markdown",
   "metadata": {},
   "source": [
    "## Driver Dataset"
   ]
  },
  {
   "cell_type": "markdown",
   "metadata": {},
   "source": [
    "API to get first 1,000 (max to download w/o loop) from drivers dataset & make pandas dataframe:"
   ]
  },
  {
   "cell_type": "code",
   "execution_count": 55,
   "metadata": {},
   "outputs": [],
   "source": [
    "dr_response = requests.get('https://data.cityofchicago.org/resource/j6wf-834c.json').json()\n",
    "dr_df = pd.DataFrame.from_dict(dr_response)"
   ]
  },
  {
   "cell_type": "code",
   "execution_count": 56,
   "metadata": {},
   "outputs": [
    {
     "data": {
      "text/plain": [
       "Index(['city', 'driver_start_month', 'month_reported', 'multiple_tnps',\n",
       "       'number_of_trips', 'state', 'zip'],\n",
       "      dtype='object')"
      ]
     },
     "execution_count": 56,
     "metadata": {},
     "output_type": "execute_result"
    }
   ],
   "source": [
    "dr_df.columns"
   ]
  },
  {
   "cell_type": "markdown",
   "metadata": {},
   "source": [
    "See first 5 observations in dataset"
   ]
  },
  {
   "cell_type": "code",
   "execution_count": 65,
   "metadata": {},
   "outputs": [
    {
     "data": {
      "text/html": [
       "<div>\n",
       "<style scoped>\n",
       "    .dataframe tbody tr th:only-of-type {\n",
       "        vertical-align: middle;\n",
       "    }\n",
       "\n",
       "    .dataframe tbody tr th {\n",
       "        vertical-align: top;\n",
       "    }\n",
       "\n",
       "    .dataframe thead th {\n",
       "        text-align: right;\n",
       "    }\n",
       "</style>\n",
       "<table border=\"1\" class=\"dataframe\">\n",
       "  <thead>\n",
       "    <tr style=\"text-align: right;\">\n",
       "      <th></th>\n",
       "      <th>city</th>\n",
       "      <th>driver_start_month</th>\n",
       "      <th>month_reported</th>\n",
       "      <th>multiple_tnps</th>\n",
       "      <th>number_of_trips</th>\n",
       "      <th>state</th>\n",
       "      <th>zip</th>\n",
       "    </tr>\n",
       "  </thead>\n",
       "  <tbody>\n",
       "    <tr>\n",
       "      <th>0</th>\n",
       "      <td>Chicago</td>\n",
       "      <td>2014-09</td>\n",
       "      <td>2018-12</td>\n",
       "      <td>True</td>\n",
       "      <td>0</td>\n",
       "      <td>IL</td>\n",
       "      <td>60608</td>\n",
       "    </tr>\n",
       "    <tr>\n",
       "      <th>1</th>\n",
       "      <td>Antioch</td>\n",
       "      <td>2018-09</td>\n",
       "      <td>2018-12</td>\n",
       "      <td>False</td>\n",
       "      <td>16</td>\n",
       "      <td>IL</td>\n",
       "      <td>60002</td>\n",
       "    </tr>\n",
       "    <tr>\n",
       "      <th>2</th>\n",
       "      <td>Robbins</td>\n",
       "      <td>2017-11</td>\n",
       "      <td>2018-12</td>\n",
       "      <td>True</td>\n",
       "      <td>30</td>\n",
       "      <td>IL</td>\n",
       "      <td>60472</td>\n",
       "    </tr>\n",
       "    <tr>\n",
       "      <th>3</th>\n",
       "      <td>Schaumburg</td>\n",
       "      <td>2018-08</td>\n",
       "      <td>2018-12</td>\n",
       "      <td>True</td>\n",
       "      <td>193</td>\n",
       "      <td>IL</td>\n",
       "      <td>60193</td>\n",
       "    </tr>\n",
       "    <tr>\n",
       "      <th>4</th>\n",
       "      <td>Hammond</td>\n",
       "      <td>2018-05</td>\n",
       "      <td>2018-12</td>\n",
       "      <td>False</td>\n",
       "      <td>0</td>\n",
       "      <td>IN</td>\n",
       "      <td>46323</td>\n",
       "    </tr>\n",
       "  </tbody>\n",
       "</table>\n",
       "</div>"
      ],
      "text/plain": [
       "         city driver_start_month month_reported  multiple_tnps  \\\n",
       "0     Chicago            2014-09        2018-12           True   \n",
       "1     Antioch            2018-09        2018-12          False   \n",
       "2     Robbins            2017-11        2018-12           True   \n",
       "3  Schaumburg            2018-08        2018-12           True   \n",
       "4     Hammond            2018-05        2018-12          False   \n",
       "\n",
       "  number_of_trips state    zip  \n",
       "0               0    IL  60608  \n",
       "1              16    IL  60002  \n",
       "2              30    IL  60472  \n",
       "3             193    IL  60193  \n",
       "4               0    IN  46323  "
      ]
     },
     "execution_count": 65,
     "metadata": {},
     "output_type": "execute_result"
    }
   ],
   "source": [
    "dr_df.head(n=5)"
   ]
  },
  {
   "cell_type": "markdown",
   "metadata": {},
   "source": [
    "Number of NaN/Null Values by Column"
   ]
  },
  {
   "cell_type": "code",
   "execution_count": 66,
   "metadata": {},
   "outputs": [
    {
     "data": {
      "text/plain": [
       "city                  28\n",
       "driver_start_month     0\n",
       "month_reported         0\n",
       "multiple_tnps          0\n",
       "number_of_trips        0\n",
       "state                  0\n",
       "zip                   28\n",
       "dtype: int64"
      ]
     },
     "execution_count": 66,
     "metadata": {},
     "output_type": "execute_result"
    }
   ],
   "source": [
    "dr_df.isnull().sum(axis=0)"
   ]
  },
  {
   "cell_type": "markdown",
   "metadata": {},
   "source": [
    "For longest value in each column:"
   ]
  },
  {
   "cell_type": "code",
   "execution_count": 67,
   "metadata": {},
   "outputs": [
    {
     "name": "stdout",
     "output_type": "stream",
     "text": [
      "city 18\n",
      "driver_start_month 18\n",
      "month_reported 18\n",
      "multiple_tnps 18\n",
      "number_of_trips 18\n",
      "state 18\n",
      "zip 18\n"
     ]
    }
   ],
   "source": [
    "longest_val = 0\n",
    "for column in dr_df.columns:\n",
    "    for val in dr_df[column].unique():\n",
    "        if len(str(val)) > longest_val:\n",
    "            longest_val = len(str(val))\n",
    "    print(column, longest_val)"
   ]
  },
  {
   "cell_type": "markdown",
   "metadata": {},
   "source": [
    "# Vehicle Dataset"
   ]
  },
  {
   "cell_type": "markdown",
   "metadata": {},
   "source": [
    "API to get first 1,000 (max to download w/o loop) from vehicles dataset & make pandas dataframe:"
   ]
  },
  {
   "cell_type": "code",
   "execution_count": 50,
   "metadata": {},
   "outputs": [],
   "source": [
    "vehicle_response = requests.get('https://data.cityofchicago.org/resource/bc6b-sq4u.json').json()\n",
    "vehicle_df = pd.DataFrame.from_dict(dr_response)"
   ]
  },
  {
   "cell_type": "code",
   "execution_count": 51,
   "metadata": {},
   "outputs": [
    {
     "data": {
      "text/plain": [
       "Index(['city', 'driver_start_month', 'month_reported', 'multiple_tnps',\n",
       "       'number_of_trips', 'state', 'zip'],\n",
       "      dtype='object')"
      ]
     },
     "execution_count": 51,
     "metadata": {},
     "output_type": "execute_result"
    }
   ],
   "source": [
    "vehicle_df.columns"
   ]
  },
  {
   "cell_type": "markdown",
   "metadata": {},
   "source": [
    "See first 5 observations in dataset"
   ]
  },
  {
   "cell_type": "code",
   "execution_count": 52,
   "metadata": {},
   "outputs": [
    {
     "data": {
      "text/html": [
       "<div>\n",
       "<style scoped>\n",
       "    .dataframe tbody tr th:only-of-type {\n",
       "        vertical-align: middle;\n",
       "    }\n",
       "\n",
       "    .dataframe tbody tr th {\n",
       "        vertical-align: top;\n",
       "    }\n",
       "\n",
       "    .dataframe thead th {\n",
       "        text-align: right;\n",
       "    }\n",
       "</style>\n",
       "<table border=\"1\" class=\"dataframe\">\n",
       "  <thead>\n",
       "    <tr style=\"text-align: right;\">\n",
       "      <th></th>\n",
       "      <th>city</th>\n",
       "      <th>driver_start_month</th>\n",
       "      <th>month_reported</th>\n",
       "      <th>multiple_tnps</th>\n",
       "      <th>number_of_trips</th>\n",
       "      <th>state</th>\n",
       "      <th>zip</th>\n",
       "    </tr>\n",
       "  </thead>\n",
       "  <tbody>\n",
       "    <tr>\n",
       "      <th>0</th>\n",
       "      <td>Chicago</td>\n",
       "      <td>2014-09</td>\n",
       "      <td>2018-12</td>\n",
       "      <td>True</td>\n",
       "      <td>0</td>\n",
       "      <td>IL</td>\n",
       "      <td>60608</td>\n",
       "    </tr>\n",
       "    <tr>\n",
       "      <th>1</th>\n",
       "      <td>Antioch</td>\n",
       "      <td>2018-09</td>\n",
       "      <td>2018-12</td>\n",
       "      <td>False</td>\n",
       "      <td>16</td>\n",
       "      <td>IL</td>\n",
       "      <td>60002</td>\n",
       "    </tr>\n",
       "    <tr>\n",
       "      <th>2</th>\n",
       "      <td>Robbins</td>\n",
       "      <td>2017-11</td>\n",
       "      <td>2018-12</td>\n",
       "      <td>True</td>\n",
       "      <td>30</td>\n",
       "      <td>IL</td>\n",
       "      <td>60472</td>\n",
       "    </tr>\n",
       "    <tr>\n",
       "      <th>3</th>\n",
       "      <td>Schaumburg</td>\n",
       "      <td>2018-08</td>\n",
       "      <td>2018-12</td>\n",
       "      <td>True</td>\n",
       "      <td>193</td>\n",
       "      <td>IL</td>\n",
       "      <td>60193</td>\n",
       "    </tr>\n",
       "    <tr>\n",
       "      <th>4</th>\n",
       "      <td>Hammond</td>\n",
       "      <td>2018-05</td>\n",
       "      <td>2018-12</td>\n",
       "      <td>False</td>\n",
       "      <td>0</td>\n",
       "      <td>IN</td>\n",
       "      <td>46323</td>\n",
       "    </tr>\n",
       "  </tbody>\n",
       "</table>\n",
       "</div>"
      ],
      "text/plain": [
       "         city driver_start_month month_reported  multiple_tnps  \\\n",
       "0     Chicago            2014-09        2018-12           True   \n",
       "1     Antioch            2018-09        2018-12          False   \n",
       "2     Robbins            2017-11        2018-12           True   \n",
       "3  Schaumburg            2018-08        2018-12           True   \n",
       "4     Hammond            2018-05        2018-12          False   \n",
       "\n",
       "  number_of_trips state    zip  \n",
       "0               0    IL  60608  \n",
       "1              16    IL  60002  \n",
       "2              30    IL  60472  \n",
       "3             193    IL  60193  \n",
       "4               0    IN  46323  "
      ]
     },
     "execution_count": 52,
     "metadata": {},
     "output_type": "execute_result"
    }
   ],
   "source": [
    "vehicle_df.head(n=5)"
   ]
  },
  {
   "cell_type": "markdown",
   "metadata": {},
   "source": [
    "Number of NaN/Null Values by Column"
   ]
  },
  {
   "cell_type": "code",
   "execution_count": 53,
   "metadata": {},
   "outputs": [
    {
     "data": {
      "text/plain": [
       "city                  28\n",
       "driver_start_month     0\n",
       "month_reported         0\n",
       "multiple_tnps          0\n",
       "number_of_trips        0\n",
       "state                  0\n",
       "zip                   28\n",
       "dtype: int64"
      ]
     },
     "execution_count": 53,
     "metadata": {},
     "output_type": "execute_result"
    }
   ],
   "source": [
    "vehicle_df.isnull().sum(axis=0)"
   ]
  },
  {
   "cell_type": "markdown",
   "metadata": {},
   "source": [
    "For longest value in each column:"
   ]
  },
  {
   "cell_type": "code",
   "execution_count": 54,
   "metadata": {},
   "outputs": [
    {
     "name": "stdout",
     "output_type": "stream",
     "text": [
      "city 18\n",
      "driver_start_month 18\n",
      "month_reported 18\n",
      "multiple_tnps 18\n",
      "number_of_trips 18\n",
      "state 18\n",
      "zip 18\n"
     ]
    }
   ],
   "source": [
    "longest_val = 0\n",
    "for column in vehicle_df.columns:\n",
    "    for val in vehicle_df[column].unique():\n",
    "        if len(str(val)) > longest_val:\n",
    "            longest_val = len(str(val))\n",
    "    print(column, longest_val)"
   ]
  },
  {
   "cell_type": "code",
   "execution_count": null,
   "metadata": {},
   "outputs": [],
   "source": []
  }
 ],
 "metadata": {
  "kernelspec": {
   "display_name": "Python 3",
   "language": "python",
   "name": "python3"
  },
  "language_info": {
   "codemirror_mode": {
    "name": "ipython",
    "version": 3
   },
   "file_extension": ".py",
   "mimetype": "text/x-python",
   "name": "python",
   "nbconvert_exporter": "python",
   "pygments_lexer": "ipython3",
   "version": "3.7.3"
  }
 },
 "nbformat": 4,
 "nbformat_minor": 2
}
