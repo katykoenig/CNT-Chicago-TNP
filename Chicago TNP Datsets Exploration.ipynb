{
 "cells": [
  {
   "cell_type": "markdown",
   "metadata": {},
   "source": [
    "# Chicago TNP Data Exploration"
   ]
  },
  {
   "cell_type": "markdown",
   "metadata": {},
   "source": [
    "Notes:\n",
    "\n",
    "- Datasets to updated quarterly\n",
    "- Starting and ending time rounded to nearest 15 minutes\n",
    "- Trip fare rounded to nearest $2.50\n",
    "- Tip rounded to nearest \\$1.00"
   ]
  },
  {
   "cell_type": "code",
   "execution_count": 1,
   "metadata": {},
   "outputs": [],
   "source": [
    "import pandas as pd\n",
    "import requests"
   ]
  },
  {
   "cell_type": "markdown",
   "metadata": {},
   "source": [
    "Quick Summary of Datasets:"
   ]
  },
  {
   "cell_type": "code",
   "execution_count": 7,
   "metadata": {},
   "outputs": [
    {
     "data": {
      "text/html": [
       "<div>\n",
       "<style scoped>\n",
       "    .dataframe tbody tr th:only-of-type {\n",
       "        vertical-align: middle;\n",
       "    }\n",
       "\n",
       "    .dataframe tbody tr th {\n",
       "        vertical-align: top;\n",
       "    }\n",
       "\n",
       "    .dataframe thead th {\n",
       "        text-align: right;\n",
       "    }\n",
       "</style>\n",
       "<table border=\"1\" class=\"dataframe\">\n",
       "  <thead>\n",
       "    <tr style=\"text-align: right;\">\n",
       "      <th></th>\n",
       "      <th>dataset_name</th>\n",
       "      <th>total_obs</th>\n",
       "      <th>date_reported_start</th>\n",
       "      <th>date_reported_end</th>\n",
       "      <th>num_cols</th>\n",
       "    </tr>\n",
       "  </thead>\n",
       "  <tbody>\n",
       "    <tr>\n",
       "      <th>0</th>\n",
       "      <td>Trips</td>\n",
       "      <td>17432011</td>\n",
       "      <td>11/01/2018</td>\n",
       "      <td>12/31/2018</td>\n",
       "      <td>21</td>\n",
       "    </tr>\n",
       "    <tr>\n",
       "      <th>1</th>\n",
       "      <td>Drivers</td>\n",
       "      <td>4812612</td>\n",
       "      <td>2015-02</td>\n",
       "      <td>2018-12</td>\n",
       "      <td>7</td>\n",
       "    </tr>\n",
       "    <tr>\n",
       "      <th>2</th>\n",
       "      <td>Vehicles</td>\n",
       "      <td>4812049</td>\n",
       "      <td>2015-02</td>\n",
       "      <td>2018-12</td>\n",
       "      <td>9</td>\n",
       "    </tr>\n",
       "  </tbody>\n",
       "</table>\n",
       "</div>"
      ],
      "text/plain": [
       "  dataset_name  total_obs date_reported_start date_reported_end  num_cols\n",
       "0        Trips   17432011          11/01/2018        12/31/2018        21\n",
       "1      Drivers    4812612             2015-02           2018-12         7\n",
       "2     Vehicles    4812049             2015-02           2018-12         9"
      ]
     },
     "execution_count": 7,
     "metadata": {},
     "output_type": "execute_result"
    }
   ],
   "source": [
    "d = {'dataset_name': ['Trips', 'Drivers', 'Vehicles'], 'total_obs': [17432011, 4812612, 4812049], 'date_reported_start': ['11/01/2018', '2015-02','2015-02'], 'date_reported_end': ['12/31/2018', '2018-12', '2018-12'], 'num_cols': [21, 7, 9]}\n",
    "summary_df = pd.DataFrame(d)\n",
    "summary_df"
   ]
  },
  {
   "cell_type": "markdown",
   "metadata": {},
   "source": [
    "## Trips Dataset"
   ]
  },
  {
   "cell_type": "markdown",
   "metadata": {},
   "source": [
    "API to get first 1,000 (max to download w/o loop) from trips dataset & make pandas dataframe:"
   ]
  },
  {
   "cell_type": "code",
   "execution_count": 39,
   "metadata": {},
   "outputs": [],
   "source": [
    "trips_response = requests.get('https://data.cityofchicago.org/resource/m6dm-c72p.json').json()\n",
    "trips_df = pd.DataFrame.from_dict(trips_response, dtype=str)"
   ]
  },
  {
   "cell_type": "code",
   "execution_count": 32,
   "metadata": {},
   "outputs": [
    {
     "data": {
      "text/plain": [
       "Index(['additional_charges', 'dropoff_census_tract',\n",
       "       'dropoff_centroid_latitude', 'dropoff_centroid_location',\n",
       "       'dropoff_centroid_longitude', 'dropoff_community_area', 'fare',\n",
       "       'pickup_census_tract', 'pickup_centroid_latitude',\n",
       "       'pickup_centroid_location', 'pickup_centroid_longitude',\n",
       "       'pickup_community_area', 'shared_trip_authorized', 'tip',\n",
       "       'trip_end_timestamp', 'trip_id', 'trip_miles', 'trip_seconds',\n",
       "       'trip_start_timestamp', 'trip_total', 'trips_pooled'],\n",
       "      dtype='object')"
      ]
     },
     "execution_count": 32,
     "metadata": {},
     "output_type": "execute_result"
    }
   ],
   "source": [
    "trips_df.columns"
   ]
  },
  {
   "cell_type": "code",
   "execution_count": 58,
   "metadata": {},
   "outputs": [
    {
     "data": {
      "text/plain": [
       "additional_charges            object\n",
       "dropoff_census_tract          object\n",
       "dropoff_centroid_latitude     object\n",
       "dropoff_centroid_location     object\n",
       "dropoff_centroid_longitude    object\n",
       "dropoff_community_area        object\n",
       "fare                          object\n",
       "pickup_census_tract           object\n",
       "pickup_centroid_latitude      object\n",
       "pickup_centroid_location      object\n",
       "pickup_centroid_longitude     object\n",
       "pickup_community_area         object\n",
       "shared_trip_authorized        object\n",
       "tip                           object\n",
       "trip_end_timestamp            object\n",
       "trip_id                       object\n",
       "trip_miles                    object\n",
       "trip_seconds                  object\n",
       "trip_start_timestamp          object\n",
       "trip_total                    object\n",
       "trips_pooled                  object\n",
       "dtype: object"
      ]
     },
     "execution_count": 58,
     "metadata": {},
     "output_type": "execute_result"
    }
   ],
   "source": [
    "trips_df.dtypes"
   ]
  },
  {
   "cell_type": "code",
   "execution_count": 59,
   "metadata": {},
   "outputs": [
    {
     "data": {
      "text/html": [
       "<div>\n",
       "<style scoped>\n",
       "    .dataframe tbody tr th:only-of-type {\n",
       "        vertical-align: middle;\n",
       "    }\n",
       "\n",
       "    .dataframe tbody tr th {\n",
       "        vertical-align: top;\n",
       "    }\n",
       "\n",
       "    .dataframe thead th {\n",
       "        text-align: right;\n",
       "    }\n",
       "</style>\n",
       "<table border=\"1\" class=\"dataframe\">\n",
       "  <thead>\n",
       "    <tr style=\"text-align: right;\">\n",
       "      <th></th>\n",
       "      <th>additional_charges</th>\n",
       "      <th>dropoff_census_tract</th>\n",
       "      <th>dropoff_centroid_latitude</th>\n",
       "      <th>dropoff_centroid_location</th>\n",
       "      <th>dropoff_centroid_longitude</th>\n",
       "      <th>dropoff_community_area</th>\n",
       "      <th>fare</th>\n",
       "      <th>pickup_census_tract</th>\n",
       "      <th>pickup_centroid_latitude</th>\n",
       "      <th>pickup_centroid_location</th>\n",
       "      <th>...</th>\n",
       "      <th>pickup_community_area</th>\n",
       "      <th>shared_trip_authorized</th>\n",
       "      <th>tip</th>\n",
       "      <th>trip_end_timestamp</th>\n",
       "      <th>trip_id</th>\n",
       "      <th>trip_miles</th>\n",
       "      <th>trip_seconds</th>\n",
       "      <th>trip_start_timestamp</th>\n",
       "      <th>trip_total</th>\n",
       "      <th>trips_pooled</th>\n",
       "    </tr>\n",
       "  </thead>\n",
       "  <tbody>\n",
       "    <tr>\n",
       "      <th>0</th>\n",
       "      <td>0</td>\n",
       "      <td>NaN</td>\n",
       "      <td>41.9465114202</td>\n",
       "      <td>{'type': 'Point', 'coordinates': [-87.80602000...</td>\n",
       "      <td>-87.8060200025</td>\n",
       "      <td>17</td>\n",
       "      <td>17.5</td>\n",
       "      <td>NaN</td>\n",
       "      <td>41.9012069941</td>\n",
       "      <td>{'type': 'Point', 'coordinates': [-87.67635598...</td>\n",
       "      <td>...</td>\n",
       "      <td>24</td>\n",
       "      <td>True</td>\n",
       "      <td>3</td>\n",
       "      <td>2019-01-01T00:00:00.000</td>\n",
       "      <td>2d948e2b5abc7056145ecc026479462b00f7bcf0</td>\n",
       "      <td>10.87562822896</td>\n",
       "      <td>1613</td>\n",
       "      <td>2018-12-31T23:30:00.000</td>\n",
       "      <td>20.5</td>\n",
       "      <td>1</td>\n",
       "    </tr>\n",
       "    <tr>\n",
       "      <th>1</th>\n",
       "      <td>2.5</td>\n",
       "      <td>17031839000</td>\n",
       "      <td>41.8710158803</td>\n",
       "      <td>{'type': 'Point', 'coordinates': [-87.63140652...</td>\n",
       "      <td>-87.6314065252</td>\n",
       "      <td>32</td>\n",
       "      <td>5</td>\n",
       "      <td>17031833100</td>\n",
       "      <td>41.8790669938</td>\n",
       "      <td>{'type': 'Point', 'coordinates': [-87.65700502...</td>\n",
       "      <td>...</td>\n",
       "      <td>28</td>\n",
       "      <td>False</td>\n",
       "      <td>0</td>\n",
       "      <td>2019-01-01T00:00:00.000</td>\n",
       "      <td>fc4b6e92960f1f5bb1f3a2697e49b8913576e207</td>\n",
       "      <td>1.62441530144</td>\n",
       "      <td>562</td>\n",
       "      <td>2018-12-31T23:45:00.000</td>\n",
       "      <td>7.5</td>\n",
       "      <td>1</td>\n",
       "    </tr>\n",
       "    <tr>\n",
       "      <th>2</th>\n",
       "      <td>2.5</td>\n",
       "      <td>17031081403</td>\n",
       "      <td>41.8909220259</td>\n",
       "      <td>{'type': 'Point', 'coordinates': [-87.61886835...</td>\n",
       "      <td>-87.6188683546</td>\n",
       "      <td>8</td>\n",
       "      <td>7.5</td>\n",
       "      <td>17031080300</td>\n",
       "      <td>41.9074919303</td>\n",
       "      <td>{'type': 'Point', 'coordinates': [-87.63576009...</td>\n",
       "      <td>...</td>\n",
       "      <td>8</td>\n",
       "      <td>False</td>\n",
       "      <td>0</td>\n",
       "      <td>2019-01-01T00:00:00.000</td>\n",
       "      <td>c0f7e586f004df3987059c883705cb8b62e5cc6d</td>\n",
       "      <td>2.905180388</td>\n",
       "      <td>801</td>\n",
       "      <td>2018-12-31T23:45:00.000</td>\n",
       "      <td>10</td>\n",
       "      <td>1</td>\n",
       "    </tr>\n",
       "    <tr>\n",
       "      <th>3</th>\n",
       "      <td>7.5</td>\n",
       "      <td>NaN</td>\n",
       "      <td>41.968069</td>\n",
       "      <td>{'type': 'Point', 'coordinates': [-87.72155906...</td>\n",
       "      <td>-87.7215590627</td>\n",
       "      <td>14</td>\n",
       "      <td>22.5</td>\n",
       "      <td>NaN</td>\n",
       "      <td>41.9802643146</td>\n",
       "      <td>{'type': 'Point', 'coordinates': [-87.91362459...</td>\n",
       "      <td>...</td>\n",
       "      <td>76</td>\n",
       "      <td>False</td>\n",
       "      <td>0</td>\n",
       "      <td>2019-01-01T00:00:00.000</td>\n",
       "      <td>2a8d8287d0c7d5f86da6cc3189278d371c5ee2ef</td>\n",
       "      <td>11.0738640672</td>\n",
       "      <td>1223</td>\n",
       "      <td>2018-12-31T23:30:00.000</td>\n",
       "      <td>30</td>\n",
       "      <td>1</td>\n",
       "    </tr>\n",
       "    <tr>\n",
       "      <th>4</th>\n",
       "      <td>2.5</td>\n",
       "      <td>NaN</td>\n",
       "      <td>41.9227606205</td>\n",
       "      <td>{'type': 'Point', 'coordinates': [-87.69915534...</td>\n",
       "      <td>-87.6991553432</td>\n",
       "      <td>22</td>\n",
       "      <td>12.5</td>\n",
       "      <td>NaN</td>\n",
       "      <td>41.899602111</td>\n",
       "      <td>{'type': 'Point', 'coordinates': [-87.63330803...</td>\n",
       "      <td>...</td>\n",
       "      <td>8</td>\n",
       "      <td>False</td>\n",
       "      <td>0</td>\n",
       "      <td>2019-01-01T00:00:00.000</td>\n",
       "      <td>70a3da64b46c901b41078cc039bf4c36e6916baa</td>\n",
       "      <td>5.76561789088</td>\n",
       "      <td>1247</td>\n",
       "      <td>2018-12-31T23:30:00.000</td>\n",
       "      <td>15</td>\n",
       "      <td>1</td>\n",
       "    </tr>\n",
       "  </tbody>\n",
       "</table>\n",
       "<p>5 rows × 21 columns</p>\n",
       "</div>"
      ],
      "text/plain": [
       "  additional_charges dropoff_census_tract dropoff_centroid_latitude  \\\n",
       "0                  0                  NaN             41.9465114202   \n",
       "1                2.5          17031839000             41.8710158803   \n",
       "2                2.5          17031081403             41.8909220259   \n",
       "3                7.5                  NaN                 41.968069   \n",
       "4                2.5                  NaN             41.9227606205   \n",
       "\n",
       "                           dropoff_centroid_location  \\\n",
       "0  {'type': 'Point', 'coordinates': [-87.80602000...   \n",
       "1  {'type': 'Point', 'coordinates': [-87.63140652...   \n",
       "2  {'type': 'Point', 'coordinates': [-87.61886835...   \n",
       "3  {'type': 'Point', 'coordinates': [-87.72155906...   \n",
       "4  {'type': 'Point', 'coordinates': [-87.69915534...   \n",
       "\n",
       "  dropoff_centroid_longitude dropoff_community_area  fare pickup_census_tract  \\\n",
       "0             -87.8060200025                     17  17.5                 NaN   \n",
       "1             -87.6314065252                     32     5         17031833100   \n",
       "2             -87.6188683546                      8   7.5         17031080300   \n",
       "3             -87.7215590627                     14  22.5                 NaN   \n",
       "4             -87.6991553432                     22  12.5                 NaN   \n",
       "\n",
       "  pickup_centroid_latitude                           pickup_centroid_location  \\\n",
       "0            41.9012069941  {'type': 'Point', 'coordinates': [-87.67635598...   \n",
       "1            41.8790669938  {'type': 'Point', 'coordinates': [-87.65700502...   \n",
       "2            41.9074919303  {'type': 'Point', 'coordinates': [-87.63576009...   \n",
       "3            41.9802643146  {'type': 'Point', 'coordinates': [-87.91362459...   \n",
       "4             41.899602111  {'type': 'Point', 'coordinates': [-87.63330803...   \n",
       "\n",
       "   ... pickup_community_area shared_trip_authorized tip  \\\n",
       "0  ...                    24                   True   3   \n",
       "1  ...                    28                  False   0   \n",
       "2  ...                     8                  False   0   \n",
       "3  ...                    76                  False   0   \n",
       "4  ...                     8                  False   0   \n",
       "\n",
       "        trip_end_timestamp                                   trip_id  \\\n",
       "0  2019-01-01T00:00:00.000  2d948e2b5abc7056145ecc026479462b00f7bcf0   \n",
       "1  2019-01-01T00:00:00.000  fc4b6e92960f1f5bb1f3a2697e49b8913576e207   \n",
       "2  2019-01-01T00:00:00.000  c0f7e586f004df3987059c883705cb8b62e5cc6d   \n",
       "3  2019-01-01T00:00:00.000  2a8d8287d0c7d5f86da6cc3189278d371c5ee2ef   \n",
       "4  2019-01-01T00:00:00.000  70a3da64b46c901b41078cc039bf4c36e6916baa   \n",
       "\n",
       "       trip_miles trip_seconds     trip_start_timestamp trip_total  \\\n",
       "0  10.87562822896         1613  2018-12-31T23:30:00.000       20.5   \n",
       "1   1.62441530144          562  2018-12-31T23:45:00.000        7.5   \n",
       "2     2.905180388          801  2018-12-31T23:45:00.000         10   \n",
       "3   11.0738640672         1223  2018-12-31T23:30:00.000         30   \n",
       "4   5.76561789088         1247  2018-12-31T23:30:00.000         15   \n",
       "\n",
       "  trips_pooled  \n",
       "0            1  \n",
       "1            1  \n",
       "2            1  \n",
       "3            1  \n",
       "4            1  \n",
       "\n",
       "[5 rows x 21 columns]"
      ]
     },
     "execution_count": 59,
     "metadata": {},
     "output_type": "execute_result"
    }
   ],
   "source": [
    "trips_df.head(n=5)"
   ]
  },
  {
   "cell_type": "markdown",
   "metadata": {},
   "source": [
    "Number of NaN/Null Values by Column"
   ]
  },
  {
   "cell_type": "code",
   "execution_count": 60,
   "metadata": {},
   "outputs": [
    {
     "data": {
      "text/plain": [
       "additional_charges              0\n",
       "dropoff_census_tract          466\n",
       "dropoff_centroid_latitude      37\n",
       "dropoff_centroid_location      37\n",
       "dropoff_centroid_longitude     37\n",
       "dropoff_community_area         37\n",
       "fare                            0\n",
       "pickup_census_tract           465\n",
       "pickup_centroid_latitude       42\n",
       "pickup_centroid_location       42\n",
       "pickup_centroid_longitude      42\n",
       "pickup_community_area          42\n",
       "shared_trip_authorized          0\n",
       "tip                             0\n",
       "trip_end_timestamp              0\n",
       "trip_id                         0\n",
       "trip_miles                      0\n",
       "trip_seconds                    0\n",
       "trip_start_timestamp            0\n",
       "trip_total                      0\n",
       "trips_pooled                    0\n",
       "dtype: int64"
      ]
     },
     "execution_count": 60,
     "metadata": {},
     "output_type": "execute_result"
    }
   ],
   "source": [
    "trips_df.isnull().sum(axis=0)"
   ]
  },
  {
   "cell_type": "markdown",
   "metadata": {},
   "source": [
    "For longest value in each column:"
   ]
  },
  {
   "cell_type": "code",
   "execution_count": 61,
   "metadata": {},
   "outputs": [
    {
     "name": "stdout",
     "output_type": "stream",
     "text": [
      "additional_charges 5\n",
      "dropoff_census_tract 11\n",
      "dropoff_centroid_latitude 13\n",
      "dropoff_centroid_location 70\n",
      "dropoff_centroid_longitude 70\n",
      "dropoff_community_area 70\n",
      "fare 70\n",
      "pickup_census_tract 70\n",
      "pickup_centroid_latitude 70\n",
      "pickup_centroid_location 70\n",
      "pickup_centroid_longitude 70\n",
      "pickup_community_area 70\n",
      "shared_trip_authorized 70\n",
      "tip 70\n",
      "trip_end_timestamp 70\n",
      "trip_id 70\n",
      "trip_miles 70\n",
      "trip_seconds 70\n",
      "trip_start_timestamp 70\n",
      "trip_total 70\n",
      "trips_pooled 70\n"
     ]
    }
   ],
   "source": [
    "longest_val = 0\n",
    "for column in trips_df.columns:\n",
    "    for val in trips_df[column].unique():\n",
    "        if len(str(val)) > longest_val:\n",
    "            longest_val = len(str(val))\n",
    "    print(column, longest_val)"
   ]
  },
  {
   "cell_type": "markdown",
   "metadata": {},
   "source": [
    "## Driver Dataset"
   ]
  },
  {
   "cell_type": "markdown",
   "metadata": {},
   "source": [
    "API to get first 1,000 (max to download w/o loop) from drivers dataset & make pandas dataframe:"
   ]
  },
  {
   "cell_type": "code",
   "execution_count": 55,
   "metadata": {},
   "outputs": [],
   "source": [
    "dr_response = requests.get('https://data.cityofchicago.org/resource/j6wf-834c.json').json()\n",
    "dr_df = pd.DataFrame.from_dict(dr_response)"
   ]
  },
  {
   "cell_type": "code",
   "execution_count": 56,
   "metadata": {},
   "outputs": [
    {
     "data": {
      "text/plain": [
       "Index(['city', 'driver_start_month', 'month_reported', 'multiple_tnps',\n",
       "       'number_of_trips', 'state', 'zip'],\n",
       "      dtype='object')"
      ]
     },
     "execution_count": 56,
     "metadata": {},
     "output_type": "execute_result"
    }
   ],
   "source": [
    "dr_df.columns"
   ]
  },
  {
   "cell_type": "code",
   "execution_count": 65,
   "metadata": {},
   "outputs": [
    {
     "data": {
      "text/html": [
       "<div>\n",
       "<style scoped>\n",
       "    .dataframe tbody tr th:only-of-type {\n",
       "        vertical-align: middle;\n",
       "    }\n",
       "\n",
       "    .dataframe tbody tr th {\n",
       "        vertical-align: top;\n",
       "    }\n",
       "\n",
       "    .dataframe thead th {\n",
       "        text-align: right;\n",
       "    }\n",
       "</style>\n",
       "<table border=\"1\" class=\"dataframe\">\n",
       "  <thead>\n",
       "    <tr style=\"text-align: right;\">\n",
       "      <th></th>\n",
       "      <th>city</th>\n",
       "      <th>driver_start_month</th>\n",
       "      <th>month_reported</th>\n",
       "      <th>multiple_tnps</th>\n",
       "      <th>number_of_trips</th>\n",
       "      <th>state</th>\n",
       "      <th>zip</th>\n",
       "    </tr>\n",
       "  </thead>\n",
       "  <tbody>\n",
       "    <tr>\n",
       "      <th>0</th>\n",
       "      <td>Chicago</td>\n",
       "      <td>2014-09</td>\n",
       "      <td>2018-12</td>\n",
       "      <td>True</td>\n",
       "      <td>0</td>\n",
       "      <td>IL</td>\n",
       "      <td>60608</td>\n",
       "    </tr>\n",
       "    <tr>\n",
       "      <th>1</th>\n",
       "      <td>Antioch</td>\n",
       "      <td>2018-09</td>\n",
       "      <td>2018-12</td>\n",
       "      <td>False</td>\n",
       "      <td>16</td>\n",
       "      <td>IL</td>\n",
       "      <td>60002</td>\n",
       "    </tr>\n",
       "    <tr>\n",
       "      <th>2</th>\n",
       "      <td>Robbins</td>\n",
       "      <td>2017-11</td>\n",
       "      <td>2018-12</td>\n",
       "      <td>True</td>\n",
       "      <td>30</td>\n",
       "      <td>IL</td>\n",
       "      <td>60472</td>\n",
       "    </tr>\n",
       "    <tr>\n",
       "      <th>3</th>\n",
       "      <td>Schaumburg</td>\n",
       "      <td>2018-08</td>\n",
       "      <td>2018-12</td>\n",
       "      <td>True</td>\n",
       "      <td>193</td>\n",
       "      <td>IL</td>\n",
       "      <td>60193</td>\n",
       "    </tr>\n",
       "    <tr>\n",
       "      <th>4</th>\n",
       "      <td>Hammond</td>\n",
       "      <td>2018-05</td>\n",
       "      <td>2018-12</td>\n",
       "      <td>False</td>\n",
       "      <td>0</td>\n",
       "      <td>IN</td>\n",
       "      <td>46323</td>\n",
       "    </tr>\n",
       "  </tbody>\n",
       "</table>\n",
       "</div>"
      ],
      "text/plain": [
       "         city driver_start_month month_reported  multiple_tnps  \\\n",
       "0     Chicago            2014-09        2018-12           True   \n",
       "1     Antioch            2018-09        2018-12          False   \n",
       "2     Robbins            2017-11        2018-12           True   \n",
       "3  Schaumburg            2018-08        2018-12           True   \n",
       "4     Hammond            2018-05        2018-12          False   \n",
       "\n",
       "  number_of_trips state    zip  \n",
       "0               0    IL  60608  \n",
       "1              16    IL  60002  \n",
       "2              30    IL  60472  \n",
       "3             193    IL  60193  \n",
       "4               0    IN  46323  "
      ]
     },
     "execution_count": 65,
     "metadata": {},
     "output_type": "execute_result"
    }
   ],
   "source": [
    "dr_df.head(n=5)"
   ]
  },
  {
   "cell_type": "markdown",
   "metadata": {},
   "source": [
    "Number of NaN/Null Values by Column"
   ]
  },
  {
   "cell_type": "code",
   "execution_count": 66,
   "metadata": {},
   "outputs": [
    {
     "data": {
      "text/plain": [
       "city                  28\n",
       "driver_start_month     0\n",
       "month_reported         0\n",
       "multiple_tnps          0\n",
       "number_of_trips        0\n",
       "state                  0\n",
       "zip                   28\n",
       "dtype: int64"
      ]
     },
     "execution_count": 66,
     "metadata": {},
     "output_type": "execute_result"
    }
   ],
   "source": [
    "dr_df.isnull().sum(axis=0)"
   ]
  },
  {
   "cell_type": "markdown",
   "metadata": {},
   "source": [
    "For longest value in each column:"
   ]
  },
  {
   "cell_type": "code",
   "execution_count": 67,
   "metadata": {},
   "outputs": [
    {
     "name": "stdout",
     "output_type": "stream",
     "text": [
      "city 18\n",
      "driver_start_month 18\n",
      "month_reported 18\n",
      "multiple_tnps 18\n",
      "number_of_trips 18\n",
      "state 18\n",
      "zip 18\n"
     ]
    }
   ],
   "source": [
    "longest_val = 0\n",
    "for column in dr_df.columns:\n",
    "    for val in dr_df[column].unique():\n",
    "        if len(str(val)) > longest_val:\n",
    "            longest_val = len(str(val))\n",
    "    print(column, longest_val)"
   ]
  },
  {
   "cell_type": "markdown",
   "metadata": {},
   "source": [
    "# Vehicle Dataset"
   ]
  },
  {
   "cell_type": "markdown",
   "metadata": {},
   "source": [
    "API to get first 1,000 (max to download w/o loop) from vehicles dataset & make pandas dataframe:"
   ]
  },
  {
   "cell_type": "code",
   "execution_count": 50,
   "metadata": {},
   "outputs": [],
   "source": [
    "vehicle_response = requests.get('https://data.cityofchicago.org/resource/bc6b-sq4u.json').json()\n",
    "vehicle_df = pd.DataFrame.from_dict(dr_response)"
   ]
  },
  {
   "cell_type": "code",
   "execution_count": 51,
   "metadata": {},
   "outputs": [
    {
     "data": {
      "text/plain": [
       "Index(['city', 'driver_start_month', 'month_reported', 'multiple_tnps',\n",
       "       'number_of_trips', 'state', 'zip'],\n",
       "      dtype='object')"
      ]
     },
     "execution_count": 51,
     "metadata": {},
     "output_type": "execute_result"
    }
   ],
   "source": [
    "vehicle_df.columns"
   ]
  },
  {
   "cell_type": "code",
   "execution_count": 52,
   "metadata": {},
   "outputs": [
    {
     "data": {
      "text/html": [
       "<div>\n",
       "<style scoped>\n",
       "    .dataframe tbody tr th:only-of-type {\n",
       "        vertical-align: middle;\n",
       "    }\n",
       "\n",
       "    .dataframe tbody tr th {\n",
       "        vertical-align: top;\n",
       "    }\n",
       "\n",
       "    .dataframe thead th {\n",
       "        text-align: right;\n",
       "    }\n",
       "</style>\n",
       "<table border=\"1\" class=\"dataframe\">\n",
       "  <thead>\n",
       "    <tr style=\"text-align: right;\">\n",
       "      <th></th>\n",
       "      <th>city</th>\n",
       "      <th>driver_start_month</th>\n",
       "      <th>month_reported</th>\n",
       "      <th>multiple_tnps</th>\n",
       "      <th>number_of_trips</th>\n",
       "      <th>state</th>\n",
       "      <th>zip</th>\n",
       "    </tr>\n",
       "  </thead>\n",
       "  <tbody>\n",
       "    <tr>\n",
       "      <th>0</th>\n",
       "      <td>Chicago</td>\n",
       "      <td>2014-09</td>\n",
       "      <td>2018-12</td>\n",
       "      <td>True</td>\n",
       "      <td>0</td>\n",
       "      <td>IL</td>\n",
       "      <td>60608</td>\n",
       "    </tr>\n",
       "    <tr>\n",
       "      <th>1</th>\n",
       "      <td>Antioch</td>\n",
       "      <td>2018-09</td>\n",
       "      <td>2018-12</td>\n",
       "      <td>False</td>\n",
       "      <td>16</td>\n",
       "      <td>IL</td>\n",
       "      <td>60002</td>\n",
       "    </tr>\n",
       "    <tr>\n",
       "      <th>2</th>\n",
       "      <td>Robbins</td>\n",
       "      <td>2017-11</td>\n",
       "      <td>2018-12</td>\n",
       "      <td>True</td>\n",
       "      <td>30</td>\n",
       "      <td>IL</td>\n",
       "      <td>60472</td>\n",
       "    </tr>\n",
       "    <tr>\n",
       "      <th>3</th>\n",
       "      <td>Schaumburg</td>\n",
       "      <td>2018-08</td>\n",
       "      <td>2018-12</td>\n",
       "      <td>True</td>\n",
       "      <td>193</td>\n",
       "      <td>IL</td>\n",
       "      <td>60193</td>\n",
       "    </tr>\n",
       "    <tr>\n",
       "      <th>4</th>\n",
       "      <td>Hammond</td>\n",
       "      <td>2018-05</td>\n",
       "      <td>2018-12</td>\n",
       "      <td>False</td>\n",
       "      <td>0</td>\n",
       "      <td>IN</td>\n",
       "      <td>46323</td>\n",
       "    </tr>\n",
       "  </tbody>\n",
       "</table>\n",
       "</div>"
      ],
      "text/plain": [
       "         city driver_start_month month_reported  multiple_tnps  \\\n",
       "0     Chicago            2014-09        2018-12           True   \n",
       "1     Antioch            2018-09        2018-12          False   \n",
       "2     Robbins            2017-11        2018-12           True   \n",
       "3  Schaumburg            2018-08        2018-12           True   \n",
       "4     Hammond            2018-05        2018-12          False   \n",
       "\n",
       "  number_of_trips state    zip  \n",
       "0               0    IL  60608  \n",
       "1              16    IL  60002  \n",
       "2              30    IL  60472  \n",
       "3             193    IL  60193  \n",
       "4               0    IN  46323  "
      ]
     },
     "execution_count": 52,
     "metadata": {},
     "output_type": "execute_result"
    }
   ],
   "source": [
    "vehicle_df.head(n=5)"
   ]
  },
  {
   "cell_type": "markdown",
   "metadata": {},
   "source": [
    "Number of NaN/Null Values by Column"
   ]
  },
  {
   "cell_type": "code",
   "execution_count": 53,
   "metadata": {},
   "outputs": [
    {
     "data": {
      "text/plain": [
       "city                  28\n",
       "driver_start_month     0\n",
       "month_reported         0\n",
       "multiple_tnps          0\n",
       "number_of_trips        0\n",
       "state                  0\n",
       "zip                   28\n",
       "dtype: int64"
      ]
     },
     "execution_count": 53,
     "metadata": {},
     "output_type": "execute_result"
    }
   ],
   "source": [
    "vehicle_df.isnull().sum(axis=0)"
   ]
  },
  {
   "cell_type": "markdown",
   "metadata": {},
   "source": [
    "For longest value in each column:"
   ]
  },
  {
   "cell_type": "code",
   "execution_count": 54,
   "metadata": {},
   "outputs": [
    {
     "name": "stdout",
     "output_type": "stream",
     "text": [
      "city 18\n",
      "driver_start_month 18\n",
      "month_reported 18\n",
      "multiple_tnps 18\n",
      "number_of_trips 18\n",
      "state 18\n",
      "zip 18\n"
     ]
    }
   ],
   "source": [
    "longest_val = 0\n",
    "for column in vehicle_df.columns:\n",
    "    for val in vehicle_df[column].unique():\n",
    "        if len(str(val)) > longest_val:\n",
    "            longest_val = len(str(val))\n",
    "    print(column, longest_val)"
   ]
  },
  {
   "cell_type": "code",
   "execution_count": null,
   "metadata": {},
   "outputs": [],
   "source": []
  }
 ],
 "metadata": {
  "kernelspec": {
   "display_name": "Python 3",
   "language": "python",
   "name": "python3"
  },
  "language_info": {
   "codemirror_mode": {
    "name": "ipython",
    "version": 3
   },
   "file_extension": ".py",
   "mimetype": "text/x-python",
   "name": "python",
   "nbconvert_exporter": "python",
   "pygments_lexer": "ipython3",
   "version": "3.7.3"
  }
 },
 "nbformat": 4,
 "nbformat_minor": 2
}
